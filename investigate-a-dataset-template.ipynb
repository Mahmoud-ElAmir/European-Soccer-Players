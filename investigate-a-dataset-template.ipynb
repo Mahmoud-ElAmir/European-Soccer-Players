{
 "cells": [
  {
   "cell_type": "markdown",
   "metadata": {},
   "source": [
    "\n",
    "# Project: European Soccer Database \n",
    "\n",
    "## Table of Contents\n",
    "<ul>\n",
    "<li><a href=\"#intro\">Introduction</a></li>\n",
    "<li><a href=\"#wrangling\">Data Wrangling</a></li>\n",
    "<li><a href=\"#eda\">Exploratory Data Analysis</a></li>\n",
    "<li><a href=\"#conclusions\">Conclusions</a></li>\n",
    "</ul>"
   ]
  },
  {
   "cell_type": "markdown",
   "metadata": {},
   "source": [
    "<a id='intro'></a>\n",
    "## Introduction\n",
    "In this Project I'm going to analyze Soccer Database from 2008 to 2016.I have downloaded the data using SQlite and converted it to csv using DB browser. I'm working on Player and Player Attributes data. "
   ]
  },
  {
   "cell_type": "code",
   "execution_count": 5,
   "metadata": {},
   "outputs": [
    {
     "name": "stderr",
     "output_type": "stream",
     "text": [
      "UsageError: Line magic function `%` not found.\n"
     ]
    }
   ],
   "source": [
    "import pandas as pd\n",
    "import numpy as np\n",
    "import matplotlib.pyplot as plt\n",
    "% matplotlib inline\n"
   ]
  },
  {
   "cell_type": "markdown",
   "metadata": {},
   "source": [
    "<a id='wrangling'></a>\n",
    "## Data Wrangling\n",
    "\n",
    "\n",
    "\n",
    "### General Properties"
   ]
  },
  {
   "cell_type": "code",
   "execution_count": 6,
   "metadata": {},
   "outputs": [],
   "source": [
    "df_p=pd.read_csv('Player.csv')\n",
    "df_p2=pd.read_csv('Player_Attributes.csv')"
   ]
  },
  {
   "cell_type": "code",
   "execution_count": 7,
   "metadata": {},
   "outputs": [
    {
     "data": {
      "text/html": [
       "<div>\n",
       "<style scoped>\n",
       "    .dataframe tbody tr th:only-of-type {\n",
       "        vertical-align: middle;\n",
       "    }\n",
       "\n",
       "    .dataframe tbody tr th {\n",
       "        vertical-align: top;\n",
       "    }\n",
       "\n",
       "    .dataframe thead th {\n",
       "        text-align: right;\n",
       "    }\n",
       "</style>\n",
       "<table border=\"1\" class=\"dataframe\">\n",
       "  <thead>\n",
       "    <tr style=\"text-align: right;\">\n",
       "      <th></th>\n",
       "      <th>id</th>\n",
       "      <th>player_api_id</th>\n",
       "      <th>player_name</th>\n",
       "      <th>player_fifa_api_id</th>\n",
       "      <th>birthday</th>\n",
       "      <th>height</th>\n",
       "      <th>weight</th>\n",
       "    </tr>\n",
       "  </thead>\n",
       "  <tbody>\n",
       "    <tr>\n",
       "      <th>0</th>\n",
       "      <td>1</td>\n",
       "      <td>505942</td>\n",
       "      <td>Aaron Appindangoye</td>\n",
       "      <td>218353</td>\n",
       "      <td>1992-02-29 00:00:00</td>\n",
       "      <td>182.88</td>\n",
       "      <td>187</td>\n",
       "    </tr>\n",
       "    <tr>\n",
       "      <th>1</th>\n",
       "      <td>2</td>\n",
       "      <td>155782</td>\n",
       "      <td>Aaron Cresswell</td>\n",
       "      <td>189615</td>\n",
       "      <td>1989-12-15 00:00:00</td>\n",
       "      <td>170.18</td>\n",
       "      <td>146</td>\n",
       "    </tr>\n",
       "    <tr>\n",
       "      <th>2</th>\n",
       "      <td>3</td>\n",
       "      <td>162549</td>\n",
       "      <td>Aaron Doran</td>\n",
       "      <td>186170</td>\n",
       "      <td>1991-05-13 00:00:00</td>\n",
       "      <td>170.18</td>\n",
       "      <td>163</td>\n",
       "    </tr>\n",
       "    <tr>\n",
       "      <th>3</th>\n",
       "      <td>4</td>\n",
       "      <td>30572</td>\n",
       "      <td>Aaron Galindo</td>\n",
       "      <td>140161</td>\n",
       "      <td>1982-05-08 00:00:00</td>\n",
       "      <td>182.88</td>\n",
       "      <td>198</td>\n",
       "    </tr>\n",
       "    <tr>\n",
       "      <th>4</th>\n",
       "      <td>5</td>\n",
       "      <td>23780</td>\n",
       "      <td>Aaron Hughes</td>\n",
       "      <td>17725</td>\n",
       "      <td>1979-11-08 00:00:00</td>\n",
       "      <td>182.88</td>\n",
       "      <td>154</td>\n",
       "    </tr>\n",
       "  </tbody>\n",
       "</table>\n",
       "</div>"
      ],
      "text/plain": [
       "   id  player_api_id         player_name  player_fifa_api_id  \\\n",
       "0   1         505942  Aaron Appindangoye              218353   \n",
       "1   2         155782     Aaron Cresswell              189615   \n",
       "2   3         162549         Aaron Doran              186170   \n",
       "3   4          30572       Aaron Galindo              140161   \n",
       "4   5          23780        Aaron Hughes               17725   \n",
       "\n",
       "              birthday  height  weight  \n",
       "0  1992-02-29 00:00:00  182.88     187  \n",
       "1  1989-12-15 00:00:00  170.18     146  \n",
       "2  1991-05-13 00:00:00  170.18     163  \n",
       "3  1982-05-08 00:00:00  182.88     198  \n",
       "4  1979-11-08 00:00:00  182.88     154  "
      ]
     },
     "execution_count": 7,
     "metadata": {},
     "output_type": "execute_result"
    }
   ],
   "source": [
    "df_p.head()"
   ]
  },
  {
   "cell_type": "code",
   "execution_count": 8,
   "metadata": {},
   "outputs": [
    {
     "name": "stdout",
     "output_type": "stream",
     "text": [
      "<class 'pandas.core.frame.DataFrame'>\n",
      "RangeIndex: 11060 entries, 0 to 11059\n",
      "Data columns (total 7 columns):\n",
      " #   Column              Non-Null Count  Dtype  \n",
      "---  ------              --------------  -----  \n",
      " 0   id                  11060 non-null  int64  \n",
      " 1   player_api_id       11060 non-null  int64  \n",
      " 2   player_name         11060 non-null  object \n",
      " 3   player_fifa_api_id  11060 non-null  int64  \n",
      " 4   birthday            11060 non-null  object \n",
      " 5   height              11060 non-null  float64\n",
      " 6   weight              11060 non-null  int64  \n",
      "dtypes: float64(1), int64(4), object(2)\n",
      "memory usage: 605.0+ KB\n"
     ]
    }
   ],
   "source": [
    "#explore each datafarme\n",
    "df_p.info()"
   ]
  },
  {
   "cell_type": "code",
   "execution_count": 9,
   "metadata": {},
   "outputs": [
    {
     "name": "stdout",
     "output_type": "stream",
     "text": [
      "<class 'pandas.core.frame.DataFrame'>\n",
      "RangeIndex: 183978 entries, 0 to 183977\n",
      "Data columns (total 42 columns):\n",
      " #   Column               Non-Null Count   Dtype  \n",
      "---  ------               --------------   -----  \n",
      " 0   id                   183978 non-null  int64  \n",
      " 1   player_fifa_api_id   183978 non-null  int64  \n",
      " 2   player_api_id        183978 non-null  int64  \n",
      " 3   date                 183978 non-null  object \n",
      " 4   overall_rating       183142 non-null  float64\n",
      " 5   potential            183142 non-null  float64\n",
      " 6   preferred_foot       183142 non-null  object \n",
      " 7   attacking_work_rate  180748 non-null  object \n",
      " 8   defensive_work_rate  183142 non-null  object \n",
      " 9   crossing             183142 non-null  float64\n",
      " 10  finishing            183142 non-null  float64\n",
      " 11  heading_accuracy     183142 non-null  float64\n",
      " 12  short_passing        183142 non-null  float64\n",
      " 13  volleys              181265 non-null  float64\n",
      " 14  dribbling            183142 non-null  float64\n",
      " 15  curve                181265 non-null  float64\n",
      " 16  free_kick_accuracy   183142 non-null  float64\n",
      " 17  long_passing         183142 non-null  float64\n",
      " 18  ball_control         183142 non-null  float64\n",
      " 19  acceleration         183142 non-null  float64\n",
      " 20  sprint_speed         183142 non-null  float64\n",
      " 21  agility              181265 non-null  float64\n",
      " 22  reactions            183142 non-null  float64\n",
      " 23  balance              181265 non-null  float64\n",
      " 24  shot_power           183142 non-null  float64\n",
      " 25  jumping              181265 non-null  float64\n",
      " 26  stamina              183142 non-null  float64\n",
      " 27  strength             183142 non-null  float64\n",
      " 28  long_shots           183142 non-null  float64\n",
      " 29  aggression           183142 non-null  float64\n",
      " 30  interceptions        183142 non-null  float64\n",
      " 31  positioning          183142 non-null  float64\n",
      " 32  vision               181265 non-null  float64\n",
      " 33  penalties            183142 non-null  float64\n",
      " 34  marking              183142 non-null  float64\n",
      " 35  standing_tackle      183142 non-null  float64\n",
      " 36  sliding_tackle       181265 non-null  float64\n",
      " 37  gk_diving            183142 non-null  float64\n",
      " 38  gk_handling          183142 non-null  float64\n",
      " 39  gk_kicking           183142 non-null  float64\n",
      " 40  gk_positioning       183142 non-null  float64\n",
      " 41  gk_reflexes          183142 non-null  float64\n",
      "dtypes: float64(35), int64(3), object(4)\n",
      "memory usage: 59.0+ MB\n"
     ]
    }
   ],
   "source": [
    "df_p2.info()"
   ]
  },
  {
   "cell_type": "code",
   "execution_count": 10,
   "metadata": {},
   "outputs": [
    {
     "data": {
      "text/plain": [
       "0"
      ]
     },
     "execution_count": 10,
     "metadata": {},
     "output_type": "execute_result"
    }
   ],
   "source": [
    "# check for duplicated rows in each dataframe\n",
    "sum(df_p.duplicated())"
   ]
  },
  {
   "cell_type": "code",
   "execution_count": 11,
   "metadata": {},
   "outputs": [
    {
     "data": {
      "text/plain": [
       "0"
      ]
     },
     "execution_count": 11,
     "metadata": {},
     "output_type": "execute_result"
    }
   ],
   "source": [
    "sum(df_p2.duplicated())"
   ]
  },
  {
   "cell_type": "code",
   "execution_count": 12,
   "metadata": {},
   "outputs": [
    {
     "data": {
      "text/plain": [
       "Index([], dtype='object')"
      ]
     },
     "execution_count": 12,
     "metadata": {},
     "output_type": "execute_result"
    }
   ],
   "source": [
    "#check for missing values \n",
    "df_p.columns[df_p.isnull().any()]"
   ]
  },
  {
   "cell_type": "code",
   "execution_count": 13,
   "metadata": {},
   "outputs": [
    {
     "data": {
      "text/plain": [
       "Index(['overall_rating', 'potential', 'preferred_foot', 'attacking_work_rate',\n",
       "       'defensive_work_rate', 'crossing', 'finishing', 'heading_accuracy',\n",
       "       'short_passing', 'volleys', 'dribbling', 'curve', 'free_kick_accuracy',\n",
       "       'long_passing', 'ball_control', 'acceleration', 'sprint_speed',\n",
       "       'agility', 'reactions', 'balance', 'shot_power', 'jumping', 'stamina',\n",
       "       'strength', 'long_shots', 'aggression', 'interceptions', 'positioning',\n",
       "       'vision', 'penalties', 'marking', 'standing_tackle', 'sliding_tackle',\n",
       "       'gk_diving', 'gk_handling', 'gk_kicking', 'gk_positioning',\n",
       "       'gk_reflexes'],\n",
       "      dtype='object')"
      ]
     },
     "execution_count": 13,
     "metadata": {},
     "output_type": "execute_result"
    }
   ],
   "source": [
    "df_p2.columns[df_p2.isnull().any()]"
   ]
  },
  {
   "cell_type": "code",
   "execution_count": 14,
   "metadata": {},
   "outputs": [
    {
     "data": {
      "text/plain": [
       "id                    11060\n",
       "player_api_id         11060\n",
       "player_name           10848\n",
       "player_fifa_api_id    11060\n",
       "birthday               5762\n",
       "height                   20\n",
       "weight                   50\n",
       "dtype: int64"
      ]
     },
     "execution_count": 14,
     "metadata": {},
     "output_type": "execute_result"
    }
   ],
   "source": [
    "df_p.nunique()"
   ]
  },
  {
   "cell_type": "code",
   "execution_count": 15,
   "metadata": {},
   "outputs": [
    {
     "data": {
      "text/plain": [
       "id                     183978\n",
       "player_fifa_api_id      11062\n",
       "player_api_id           11060\n",
       "date                      197\n",
       "overall_rating             61\n",
       "potential                  56\n",
       "preferred_foot              2\n",
       "attacking_work_rate         8\n",
       "defensive_work_rate        19\n",
       "crossing                   95\n",
       "finishing                  97\n",
       "heading_accuracy           96\n",
       "short_passing              95\n",
       "volleys                    93\n",
       "dribbling                  97\n",
       "curve                      92\n",
       "free_kick_accuracy         97\n",
       "long_passing               95\n",
       "ball_control               93\n",
       "acceleration               86\n",
       "sprint_speed               85\n",
       "agility                    81\n",
       "reactions                  78\n",
       "balance                    81\n",
       "shot_power                 96\n",
       "jumping                    79\n",
       "stamina                    84\n",
       "strength                   82\n",
       "long_shots                 96\n",
       "aggression                 91\n",
       "interceptions              96\n",
       "positioning                95\n",
       "vision                     97\n",
       "penalties                  94\n",
       "marking                    95\n",
       "standing_tackle            95\n",
       "sliding_tackle             94\n",
       "gk_diving                  93\n",
       "gk_handling                90\n",
       "gk_kicking                 97\n",
       "gk_positioning             94\n",
       "gk_reflexes                92\n",
       "dtype: int64"
      ]
     },
     "execution_count": 15,
     "metadata": {},
     "output_type": "execute_result"
    }
   ],
   "source": [
    "df_p2.nunique()"
   ]
  },
  {
   "cell_type": "markdown",
   "metadata": {},
   "source": [
    "### Data Cleaning "
   ]
  },
  {
   "cell_type": "code",
   "execution_count": 16,
   "metadata": {},
   "outputs": [],
   "source": [
    "#Make copies of dataframes\n",
    "df_p_clean=df_p.copy()\n",
    "df_p2_clean=df_p2.copy()"
   ]
  },
  {
   "cell_type": "markdown",
   "metadata": {
    "collapsed": true
   },
   "source": [
    "### Merge both Dataframes in one Dataframe\n"
   ]
  },
  {
   "cell_type": "code",
   "execution_count": 17,
   "metadata": {},
   "outputs": [
    {
     "data": {
      "text/html": [
       "<div>\n",
       "<style scoped>\n",
       "    .dataframe tbody tr th:only-of-type {\n",
       "        vertical-align: middle;\n",
       "    }\n",
       "\n",
       "    .dataframe tbody tr th {\n",
       "        vertical-align: top;\n",
       "    }\n",
       "\n",
       "    .dataframe thead th {\n",
       "        text-align: right;\n",
       "    }\n",
       "</style>\n",
       "<table border=\"1\" class=\"dataframe\">\n",
       "  <thead>\n",
       "    <tr style=\"text-align: right;\">\n",
       "      <th></th>\n",
       "      <th>id</th>\n",
       "      <th>player_api_id_x</th>\n",
       "      <th>player_name</th>\n",
       "      <th>player_fifa_api_id_x</th>\n",
       "      <th>birthday</th>\n",
       "      <th>height</th>\n",
       "      <th>weight</th>\n",
       "      <th>player_fifa_api_id_y</th>\n",
       "      <th>player_api_id_y</th>\n",
       "      <th>date</th>\n",
       "      <th>...</th>\n",
       "      <th>vision</th>\n",
       "      <th>penalties</th>\n",
       "      <th>marking</th>\n",
       "      <th>standing_tackle</th>\n",
       "      <th>sliding_tackle</th>\n",
       "      <th>gk_diving</th>\n",
       "      <th>gk_handling</th>\n",
       "      <th>gk_kicking</th>\n",
       "      <th>gk_positioning</th>\n",
       "      <th>gk_reflexes</th>\n",
       "    </tr>\n",
       "  </thead>\n",
       "  <tbody>\n",
       "    <tr>\n",
       "      <th>0</th>\n",
       "      <td>1</td>\n",
       "      <td>505942.0</td>\n",
       "      <td>Aaron Appindangoye</td>\n",
       "      <td>218353.0</td>\n",
       "      <td>1992-02-29 00:00:00</td>\n",
       "      <td>182.88</td>\n",
       "      <td>187.0</td>\n",
       "      <td>218353</td>\n",
       "      <td>505942</td>\n",
       "      <td>2016-02-18 00:00:00</td>\n",
       "      <td>...</td>\n",
       "      <td>54.0</td>\n",
       "      <td>48.0</td>\n",
       "      <td>65.0</td>\n",
       "      <td>69.0</td>\n",
       "      <td>69.0</td>\n",
       "      <td>6.0</td>\n",
       "      <td>11.0</td>\n",
       "      <td>10.0</td>\n",
       "      <td>8.0</td>\n",
       "      <td>8.0</td>\n",
       "    </tr>\n",
       "    <tr>\n",
       "      <th>1</th>\n",
       "      <td>2</td>\n",
       "      <td>155782.0</td>\n",
       "      <td>Aaron Cresswell</td>\n",
       "      <td>189615.0</td>\n",
       "      <td>1989-12-15 00:00:00</td>\n",
       "      <td>170.18</td>\n",
       "      <td>146.0</td>\n",
       "      <td>218353</td>\n",
       "      <td>505942</td>\n",
       "      <td>2015-11-19 00:00:00</td>\n",
       "      <td>...</td>\n",
       "      <td>54.0</td>\n",
       "      <td>48.0</td>\n",
       "      <td>65.0</td>\n",
       "      <td>69.0</td>\n",
       "      <td>69.0</td>\n",
       "      <td>6.0</td>\n",
       "      <td>11.0</td>\n",
       "      <td>10.0</td>\n",
       "      <td>8.0</td>\n",
       "      <td>8.0</td>\n",
       "    </tr>\n",
       "    <tr>\n",
       "      <th>2</th>\n",
       "      <td>3</td>\n",
       "      <td>162549.0</td>\n",
       "      <td>Aaron Doran</td>\n",
       "      <td>186170.0</td>\n",
       "      <td>1991-05-13 00:00:00</td>\n",
       "      <td>170.18</td>\n",
       "      <td>163.0</td>\n",
       "      <td>218353</td>\n",
       "      <td>505942</td>\n",
       "      <td>2015-09-21 00:00:00</td>\n",
       "      <td>...</td>\n",
       "      <td>54.0</td>\n",
       "      <td>48.0</td>\n",
       "      <td>65.0</td>\n",
       "      <td>66.0</td>\n",
       "      <td>69.0</td>\n",
       "      <td>6.0</td>\n",
       "      <td>11.0</td>\n",
       "      <td>10.0</td>\n",
       "      <td>8.0</td>\n",
       "      <td>8.0</td>\n",
       "    </tr>\n",
       "    <tr>\n",
       "      <th>3</th>\n",
       "      <td>4</td>\n",
       "      <td>30572.0</td>\n",
       "      <td>Aaron Galindo</td>\n",
       "      <td>140161.0</td>\n",
       "      <td>1982-05-08 00:00:00</td>\n",
       "      <td>182.88</td>\n",
       "      <td>198.0</td>\n",
       "      <td>218353</td>\n",
       "      <td>505942</td>\n",
       "      <td>2015-03-20 00:00:00</td>\n",
       "      <td>...</td>\n",
       "      <td>53.0</td>\n",
       "      <td>47.0</td>\n",
       "      <td>62.0</td>\n",
       "      <td>63.0</td>\n",
       "      <td>66.0</td>\n",
       "      <td>5.0</td>\n",
       "      <td>10.0</td>\n",
       "      <td>9.0</td>\n",
       "      <td>7.0</td>\n",
       "      <td>7.0</td>\n",
       "    </tr>\n",
       "    <tr>\n",
       "      <th>4</th>\n",
       "      <td>5</td>\n",
       "      <td>23780.0</td>\n",
       "      <td>Aaron Hughes</td>\n",
       "      <td>17725.0</td>\n",
       "      <td>1979-11-08 00:00:00</td>\n",
       "      <td>182.88</td>\n",
       "      <td>154.0</td>\n",
       "      <td>218353</td>\n",
       "      <td>505942</td>\n",
       "      <td>2007-02-22 00:00:00</td>\n",
       "      <td>...</td>\n",
       "      <td>53.0</td>\n",
       "      <td>47.0</td>\n",
       "      <td>62.0</td>\n",
       "      <td>63.0</td>\n",
       "      <td>66.0</td>\n",
       "      <td>5.0</td>\n",
       "      <td>10.0</td>\n",
       "      <td>9.0</td>\n",
       "      <td>7.0</td>\n",
       "      <td>7.0</td>\n",
       "    </tr>\n",
       "    <tr>\n",
       "      <th>...</th>\n",
       "      <td>...</td>\n",
       "      <td>...</td>\n",
       "      <td>...</td>\n",
       "      <td>...</td>\n",
       "      <td>...</td>\n",
       "      <td>...</td>\n",
       "      <td>...</td>\n",
       "      <td>...</td>\n",
       "      <td>...</td>\n",
       "      <td>...</td>\n",
       "      <td>...</td>\n",
       "      <td>...</td>\n",
       "      <td>...</td>\n",
       "      <td>...</td>\n",
       "      <td>...</td>\n",
       "      <td>...</td>\n",
       "      <td>...</td>\n",
       "      <td>...</td>\n",
       "      <td>...</td>\n",
       "      <td>...</td>\n",
       "      <td>...</td>\n",
       "    </tr>\n",
       "    <tr>\n",
       "      <th>183973</th>\n",
       "      <td>183974</td>\n",
       "      <td>NaN</td>\n",
       "      <td>NaN</td>\n",
       "      <td>NaN</td>\n",
       "      <td>NaN</td>\n",
       "      <td>NaN</td>\n",
       "      <td>NaN</td>\n",
       "      <td>102359</td>\n",
       "      <td>39902</td>\n",
       "      <td>2009-08-30 00:00:00</td>\n",
       "      <td>...</td>\n",
       "      <td>88.0</td>\n",
       "      <td>83.0</td>\n",
       "      <td>22.0</td>\n",
       "      <td>31.0</td>\n",
       "      <td>30.0</td>\n",
       "      <td>9.0</td>\n",
       "      <td>20.0</td>\n",
       "      <td>84.0</td>\n",
       "      <td>20.0</td>\n",
       "      <td>20.0</td>\n",
       "    </tr>\n",
       "    <tr>\n",
       "      <th>183974</th>\n",
       "      <td>183975</td>\n",
       "      <td>NaN</td>\n",
       "      <td>NaN</td>\n",
       "      <td>NaN</td>\n",
       "      <td>NaN</td>\n",
       "      <td>NaN</td>\n",
       "      <td>NaN</td>\n",
       "      <td>102359</td>\n",
       "      <td>39902</td>\n",
       "      <td>2009-02-22 00:00:00</td>\n",
       "      <td>...</td>\n",
       "      <td>88.0</td>\n",
       "      <td>70.0</td>\n",
       "      <td>32.0</td>\n",
       "      <td>31.0</td>\n",
       "      <td>30.0</td>\n",
       "      <td>9.0</td>\n",
       "      <td>20.0</td>\n",
       "      <td>73.0</td>\n",
       "      <td>20.0</td>\n",
       "      <td>20.0</td>\n",
       "    </tr>\n",
       "    <tr>\n",
       "      <th>183975</th>\n",
       "      <td>183976</td>\n",
       "      <td>NaN</td>\n",
       "      <td>NaN</td>\n",
       "      <td>NaN</td>\n",
       "      <td>NaN</td>\n",
       "      <td>NaN</td>\n",
       "      <td>NaN</td>\n",
       "      <td>102359</td>\n",
       "      <td>39902</td>\n",
       "      <td>2008-08-30 00:00:00</td>\n",
       "      <td>...</td>\n",
       "      <td>88.0</td>\n",
       "      <td>70.0</td>\n",
       "      <td>32.0</td>\n",
       "      <td>31.0</td>\n",
       "      <td>30.0</td>\n",
       "      <td>9.0</td>\n",
       "      <td>20.0</td>\n",
       "      <td>73.0</td>\n",
       "      <td>20.0</td>\n",
       "      <td>20.0</td>\n",
       "    </tr>\n",
       "    <tr>\n",
       "      <th>183976</th>\n",
       "      <td>183977</td>\n",
       "      <td>NaN</td>\n",
       "      <td>NaN</td>\n",
       "      <td>NaN</td>\n",
       "      <td>NaN</td>\n",
       "      <td>NaN</td>\n",
       "      <td>NaN</td>\n",
       "      <td>102359</td>\n",
       "      <td>39902</td>\n",
       "      <td>2007-08-30 00:00:00</td>\n",
       "      <td>...</td>\n",
       "      <td>88.0</td>\n",
       "      <td>53.0</td>\n",
       "      <td>28.0</td>\n",
       "      <td>32.0</td>\n",
       "      <td>30.0</td>\n",
       "      <td>9.0</td>\n",
       "      <td>20.0</td>\n",
       "      <td>73.0</td>\n",
       "      <td>20.0</td>\n",
       "      <td>20.0</td>\n",
       "    </tr>\n",
       "    <tr>\n",
       "      <th>183977</th>\n",
       "      <td>183978</td>\n",
       "      <td>NaN</td>\n",
       "      <td>NaN</td>\n",
       "      <td>NaN</td>\n",
       "      <td>NaN</td>\n",
       "      <td>NaN</td>\n",
       "      <td>NaN</td>\n",
       "      <td>102359</td>\n",
       "      <td>39902</td>\n",
       "      <td>2007-02-22 00:00:00</td>\n",
       "      <td>...</td>\n",
       "      <td>88.0</td>\n",
       "      <td>53.0</td>\n",
       "      <td>38.0</td>\n",
       "      <td>32.0</td>\n",
       "      <td>30.0</td>\n",
       "      <td>9.0</td>\n",
       "      <td>9.0</td>\n",
       "      <td>78.0</td>\n",
       "      <td>7.0</td>\n",
       "      <td>15.0</td>\n",
       "    </tr>\n",
       "  </tbody>\n",
       "</table>\n",
       "<p>183978 rows × 48 columns</p>\n",
       "</div>"
      ],
      "text/plain": [
       "            id  player_api_id_x         player_name  player_fifa_api_id_x  \\\n",
       "0            1         505942.0  Aaron Appindangoye              218353.0   \n",
       "1            2         155782.0     Aaron Cresswell              189615.0   \n",
       "2            3         162549.0         Aaron Doran              186170.0   \n",
       "3            4          30572.0       Aaron Galindo              140161.0   \n",
       "4            5          23780.0        Aaron Hughes               17725.0   \n",
       "...        ...              ...                 ...                   ...   \n",
       "183973  183974              NaN                 NaN                   NaN   \n",
       "183974  183975              NaN                 NaN                   NaN   \n",
       "183975  183976              NaN                 NaN                   NaN   \n",
       "183976  183977              NaN                 NaN                   NaN   \n",
       "183977  183978              NaN                 NaN                   NaN   \n",
       "\n",
       "                   birthday  height  weight  player_fifa_api_id_y  \\\n",
       "0       1992-02-29 00:00:00  182.88   187.0                218353   \n",
       "1       1989-12-15 00:00:00  170.18   146.0                218353   \n",
       "2       1991-05-13 00:00:00  170.18   163.0                218353   \n",
       "3       1982-05-08 00:00:00  182.88   198.0                218353   \n",
       "4       1979-11-08 00:00:00  182.88   154.0                218353   \n",
       "...                     ...     ...     ...                   ...   \n",
       "183973                  NaN     NaN     NaN                102359   \n",
       "183974                  NaN     NaN     NaN                102359   \n",
       "183975                  NaN     NaN     NaN                102359   \n",
       "183976                  NaN     NaN     NaN                102359   \n",
       "183977                  NaN     NaN     NaN                102359   \n",
       "\n",
       "        player_api_id_y                 date  ...  vision  penalties marking  \\\n",
       "0                505942  2016-02-18 00:00:00  ...    54.0       48.0    65.0   \n",
       "1                505942  2015-11-19 00:00:00  ...    54.0       48.0    65.0   \n",
       "2                505942  2015-09-21 00:00:00  ...    54.0       48.0    65.0   \n",
       "3                505942  2015-03-20 00:00:00  ...    53.0       47.0    62.0   \n",
       "4                505942  2007-02-22 00:00:00  ...    53.0       47.0    62.0   \n",
       "...                 ...                  ...  ...     ...        ...     ...   \n",
       "183973            39902  2009-08-30 00:00:00  ...    88.0       83.0    22.0   \n",
       "183974            39902  2009-02-22 00:00:00  ...    88.0       70.0    32.0   \n",
       "183975            39902  2008-08-30 00:00:00  ...    88.0       70.0    32.0   \n",
       "183976            39902  2007-08-30 00:00:00  ...    88.0       53.0    28.0   \n",
       "183977            39902  2007-02-22 00:00:00  ...    88.0       53.0    38.0   \n",
       "\n",
       "       standing_tackle sliding_tackle  gk_diving  gk_handling  gk_kicking  \\\n",
       "0                 69.0           69.0        6.0         11.0        10.0   \n",
       "1                 69.0           69.0        6.0         11.0        10.0   \n",
       "2                 66.0           69.0        6.0         11.0        10.0   \n",
       "3                 63.0           66.0        5.0         10.0         9.0   \n",
       "4                 63.0           66.0        5.0         10.0         9.0   \n",
       "...                ...            ...        ...          ...         ...   \n",
       "183973            31.0           30.0        9.0         20.0        84.0   \n",
       "183974            31.0           30.0        9.0         20.0        73.0   \n",
       "183975            31.0           30.0        9.0         20.0        73.0   \n",
       "183976            32.0           30.0        9.0         20.0        73.0   \n",
       "183977            32.0           30.0        9.0          9.0        78.0   \n",
       "\n",
       "        gk_positioning  gk_reflexes  \n",
       "0                  8.0          8.0  \n",
       "1                  8.0          8.0  \n",
       "2                  8.0          8.0  \n",
       "3                  7.0          7.0  \n",
       "4                  7.0          7.0  \n",
       "...                ...          ...  \n",
       "183973            20.0         20.0  \n",
       "183974            20.0         20.0  \n",
       "183975            20.0         20.0  \n",
       "183976            20.0         20.0  \n",
       "183977             7.0         15.0  \n",
       "\n",
       "[183978 rows x 48 columns]"
      ]
     },
     "execution_count": 17,
     "metadata": {},
     "output_type": "execute_result"
    }
   ],
   "source": [
    "#merging Player and Player Attributes in one Dataframe 'Players'\n",
    "players=pd.merge(df_p,df_p2,how='outer',on='id')\n",
    "players"
   ]
  },
  {
   "cell_type": "markdown",
   "metadata": {},
   "source": [
    "### Drop and Rename some columns"
   ]
  },
  {
   "cell_type": "code",
   "execution_count": 18,
   "metadata": {},
   "outputs": [
    {
     "data": {
      "text/html": [
       "<div>\n",
       "<style scoped>\n",
       "    .dataframe tbody tr th:only-of-type {\n",
       "        vertical-align: middle;\n",
       "    }\n",
       "\n",
       "    .dataframe tbody tr th {\n",
       "        vertical-align: top;\n",
       "    }\n",
       "\n",
       "    .dataframe thead th {\n",
       "        text-align: right;\n",
       "    }\n",
       "</style>\n",
       "<table border=\"1\" class=\"dataframe\">\n",
       "  <thead>\n",
       "    <tr style=\"text-align: right;\">\n",
       "      <th></th>\n",
       "      <th>id</th>\n",
       "      <th>player_name</th>\n",
       "      <th>birthday</th>\n",
       "      <th>height</th>\n",
       "      <th>weight</th>\n",
       "      <th>player_api_id_y</th>\n",
       "      <th>date</th>\n",
       "      <th>overall_rating</th>\n",
       "      <th>potential</th>\n",
       "      <th>preferred_foot</th>\n",
       "      <th>...</th>\n",
       "      <th>vision</th>\n",
       "      <th>penalties</th>\n",
       "      <th>marking</th>\n",
       "      <th>standing_tackle</th>\n",
       "      <th>sliding_tackle</th>\n",
       "      <th>gk_diving</th>\n",
       "      <th>gk_handling</th>\n",
       "      <th>gk_kicking</th>\n",
       "      <th>gk_positioning</th>\n",
       "      <th>gk_reflexes</th>\n",
       "    </tr>\n",
       "  </thead>\n",
       "  <tbody>\n",
       "    <tr>\n",
       "      <th>0</th>\n",
       "      <td>1</td>\n",
       "      <td>Aaron Appindangoye</td>\n",
       "      <td>1992-02-29 00:00:00</td>\n",
       "      <td>182.88</td>\n",
       "      <td>187.0</td>\n",
       "      <td>505942</td>\n",
       "      <td>2016-02-18 00:00:00</td>\n",
       "      <td>67.0</td>\n",
       "      <td>71.0</td>\n",
       "      <td>right</td>\n",
       "      <td>...</td>\n",
       "      <td>54.0</td>\n",
       "      <td>48.0</td>\n",
       "      <td>65.0</td>\n",
       "      <td>69.0</td>\n",
       "      <td>69.0</td>\n",
       "      <td>6.0</td>\n",
       "      <td>11.0</td>\n",
       "      <td>10.0</td>\n",
       "      <td>8.0</td>\n",
       "      <td>8.0</td>\n",
       "    </tr>\n",
       "    <tr>\n",
       "      <th>1</th>\n",
       "      <td>2</td>\n",
       "      <td>Aaron Cresswell</td>\n",
       "      <td>1989-12-15 00:00:00</td>\n",
       "      <td>170.18</td>\n",
       "      <td>146.0</td>\n",
       "      <td>505942</td>\n",
       "      <td>2015-11-19 00:00:00</td>\n",
       "      <td>67.0</td>\n",
       "      <td>71.0</td>\n",
       "      <td>right</td>\n",
       "      <td>...</td>\n",
       "      <td>54.0</td>\n",
       "      <td>48.0</td>\n",
       "      <td>65.0</td>\n",
       "      <td>69.0</td>\n",
       "      <td>69.0</td>\n",
       "      <td>6.0</td>\n",
       "      <td>11.0</td>\n",
       "      <td>10.0</td>\n",
       "      <td>8.0</td>\n",
       "      <td>8.0</td>\n",
       "    </tr>\n",
       "    <tr>\n",
       "      <th>2</th>\n",
       "      <td>3</td>\n",
       "      <td>Aaron Doran</td>\n",
       "      <td>1991-05-13 00:00:00</td>\n",
       "      <td>170.18</td>\n",
       "      <td>163.0</td>\n",
       "      <td>505942</td>\n",
       "      <td>2015-09-21 00:00:00</td>\n",
       "      <td>62.0</td>\n",
       "      <td>66.0</td>\n",
       "      <td>right</td>\n",
       "      <td>...</td>\n",
       "      <td>54.0</td>\n",
       "      <td>48.0</td>\n",
       "      <td>65.0</td>\n",
       "      <td>66.0</td>\n",
       "      <td>69.0</td>\n",
       "      <td>6.0</td>\n",
       "      <td>11.0</td>\n",
       "      <td>10.0</td>\n",
       "      <td>8.0</td>\n",
       "      <td>8.0</td>\n",
       "    </tr>\n",
       "    <tr>\n",
       "      <th>3</th>\n",
       "      <td>4</td>\n",
       "      <td>Aaron Galindo</td>\n",
       "      <td>1982-05-08 00:00:00</td>\n",
       "      <td>182.88</td>\n",
       "      <td>198.0</td>\n",
       "      <td>505942</td>\n",
       "      <td>2015-03-20 00:00:00</td>\n",
       "      <td>61.0</td>\n",
       "      <td>65.0</td>\n",
       "      <td>right</td>\n",
       "      <td>...</td>\n",
       "      <td>53.0</td>\n",
       "      <td>47.0</td>\n",
       "      <td>62.0</td>\n",
       "      <td>63.0</td>\n",
       "      <td>66.0</td>\n",
       "      <td>5.0</td>\n",
       "      <td>10.0</td>\n",
       "      <td>9.0</td>\n",
       "      <td>7.0</td>\n",
       "      <td>7.0</td>\n",
       "    </tr>\n",
       "    <tr>\n",
       "      <th>4</th>\n",
       "      <td>5</td>\n",
       "      <td>Aaron Hughes</td>\n",
       "      <td>1979-11-08 00:00:00</td>\n",
       "      <td>182.88</td>\n",
       "      <td>154.0</td>\n",
       "      <td>505942</td>\n",
       "      <td>2007-02-22 00:00:00</td>\n",
       "      <td>61.0</td>\n",
       "      <td>65.0</td>\n",
       "      <td>right</td>\n",
       "      <td>...</td>\n",
       "      <td>53.0</td>\n",
       "      <td>47.0</td>\n",
       "      <td>62.0</td>\n",
       "      <td>63.0</td>\n",
       "      <td>66.0</td>\n",
       "      <td>5.0</td>\n",
       "      <td>10.0</td>\n",
       "      <td>9.0</td>\n",
       "      <td>7.0</td>\n",
       "      <td>7.0</td>\n",
       "    </tr>\n",
       "  </tbody>\n",
       "</table>\n",
       "<p>5 rows × 45 columns</p>\n",
       "</div>"
      ],
      "text/plain": [
       "   id         player_name             birthday  height  weight  \\\n",
       "0   1  Aaron Appindangoye  1992-02-29 00:00:00  182.88   187.0   \n",
       "1   2     Aaron Cresswell  1989-12-15 00:00:00  170.18   146.0   \n",
       "2   3         Aaron Doran  1991-05-13 00:00:00  170.18   163.0   \n",
       "3   4       Aaron Galindo  1982-05-08 00:00:00  182.88   198.0   \n",
       "4   5        Aaron Hughes  1979-11-08 00:00:00  182.88   154.0   \n",
       "\n",
       "   player_api_id_y                 date  overall_rating  potential  \\\n",
       "0           505942  2016-02-18 00:00:00            67.0       71.0   \n",
       "1           505942  2015-11-19 00:00:00            67.0       71.0   \n",
       "2           505942  2015-09-21 00:00:00            62.0       66.0   \n",
       "3           505942  2015-03-20 00:00:00            61.0       65.0   \n",
       "4           505942  2007-02-22 00:00:00            61.0       65.0   \n",
       "\n",
       "  preferred_foot  ... vision penalties  marking  standing_tackle  \\\n",
       "0          right  ...   54.0      48.0     65.0             69.0   \n",
       "1          right  ...   54.0      48.0     65.0             69.0   \n",
       "2          right  ...   54.0      48.0     65.0             66.0   \n",
       "3          right  ...   53.0      47.0     62.0             63.0   \n",
       "4          right  ...   53.0      47.0     62.0             63.0   \n",
       "\n",
       "   sliding_tackle  gk_diving  gk_handling  gk_kicking  gk_positioning  \\\n",
       "0            69.0        6.0         11.0        10.0             8.0   \n",
       "1            69.0        6.0         11.0        10.0             8.0   \n",
       "2            69.0        6.0         11.0        10.0             8.0   \n",
       "3            66.0        5.0         10.0         9.0             7.0   \n",
       "4            66.0        5.0         10.0         9.0             7.0   \n",
       "\n",
       "   gk_reflexes  \n",
       "0          8.0  \n",
       "1          8.0  \n",
       "2          8.0  \n",
       "3          7.0  \n",
       "4          7.0  \n",
       "\n",
       "[5 rows x 45 columns]"
      ]
     },
     "execution_count": 18,
     "metadata": {},
     "output_type": "execute_result"
    }
   ],
   "source": [
    "players.drop(['player_api_id_x','player_fifa_api_id_x','player_fifa_api_id_y'],axis=1,inplace=True)\n",
    "players.head()"
   ]
  },
  {
   "cell_type": "code",
   "execution_count": 19,
   "metadata": {},
   "outputs": [],
   "source": [
    "players.rename(columns={'player_api_id_y':'player_api_id'},inplace=True)"
   ]
  },
  {
   "cell_type": "code",
   "execution_count": 20,
   "metadata": {},
   "outputs": [
    {
     "data": {
      "text/plain": [
       "Index(['id', 'player_name', 'birthday', 'height', 'weight', 'player_api_id',\n",
       "       'date', 'overall_rating', 'potential', 'preferred_foot',\n",
       "       'attacking_work_rate', 'defensive_work_rate', 'crossing', 'finishing',\n",
       "       'heading_accuracy', 'short_passing', 'volleys', 'dribbling', 'curve',\n",
       "       'free_kick_accuracy', 'long_passing', 'ball_control', 'acceleration',\n",
       "       'sprint_speed', 'agility', 'reactions', 'balance', 'shot_power',\n",
       "       'jumping', 'stamina', 'strength', 'long_shots', 'aggression',\n",
       "       'interceptions', 'positioning', 'vision', 'penalties', 'marking',\n",
       "       'standing_tackle', 'sliding_tackle', 'gk_diving', 'gk_handling',\n",
       "       'gk_kicking', 'gk_positioning', 'gk_reflexes'],\n",
       "      dtype='object')"
      ]
     },
     "execution_count": 20,
     "metadata": {},
     "output_type": "execute_result"
    }
   ],
   "source": [
    "players.columns"
   ]
  },
  {
   "cell_type": "markdown",
   "metadata": {},
   "source": [
    "### Dealing with NaN Values"
   ]
  },
  {
   "cell_type": "code",
   "execution_count": 21,
   "metadata": {},
   "outputs": [],
   "source": [
    "players.dropna(inplace=True)"
   ]
  },
  {
   "cell_type": "code",
   "execution_count": 22,
   "metadata": {},
   "outputs": [
    {
     "name": "stdout",
     "output_type": "stream",
     "text": [
      "<class 'pandas.core.frame.DataFrame'>\n",
      "Int64Index: 10876 entries, 0 to 11059\n",
      "Data columns (total 45 columns):\n",
      " #   Column               Non-Null Count  Dtype  \n",
      "---  ------               --------------  -----  \n",
      " 0   id                   10876 non-null  int64  \n",
      " 1   player_name          10876 non-null  object \n",
      " 2   birthday             10876 non-null  object \n",
      " 3   height               10876 non-null  float64\n",
      " 4   weight               10876 non-null  float64\n",
      " 5   player_api_id        10876 non-null  int64  \n",
      " 6   date                 10876 non-null  object \n",
      " 7   overall_rating       10876 non-null  float64\n",
      " 8   potential            10876 non-null  float64\n",
      " 9   preferred_foot       10876 non-null  object \n",
      " 10  attacking_work_rate  10876 non-null  object \n",
      " 11  defensive_work_rate  10876 non-null  object \n",
      " 12  crossing             10876 non-null  float64\n",
      " 13  finishing            10876 non-null  float64\n",
      " 14  heading_accuracy     10876 non-null  float64\n",
      " 15  short_passing        10876 non-null  float64\n",
      " 16  volleys              10876 non-null  float64\n",
      " 17  dribbling            10876 non-null  float64\n",
      " 18  curve                10876 non-null  float64\n",
      " 19  free_kick_accuracy   10876 non-null  float64\n",
      " 20  long_passing         10876 non-null  float64\n",
      " 21  ball_control         10876 non-null  float64\n",
      " 22  acceleration         10876 non-null  float64\n",
      " 23  sprint_speed         10876 non-null  float64\n",
      " 24  agility              10876 non-null  float64\n",
      " 25  reactions            10876 non-null  float64\n",
      " 26  balance              10876 non-null  float64\n",
      " 27  shot_power           10876 non-null  float64\n",
      " 28  jumping              10876 non-null  float64\n",
      " 29  stamina              10876 non-null  float64\n",
      " 30  strength             10876 non-null  float64\n",
      " 31  long_shots           10876 non-null  float64\n",
      " 32  aggression           10876 non-null  float64\n",
      " 33  interceptions        10876 non-null  float64\n",
      " 34  positioning          10876 non-null  float64\n",
      " 35  vision               10876 non-null  float64\n",
      " 36  penalties            10876 non-null  float64\n",
      " 37  marking              10876 non-null  float64\n",
      " 38  standing_tackle      10876 non-null  float64\n",
      " 39  sliding_tackle       10876 non-null  float64\n",
      " 40  gk_diving            10876 non-null  float64\n",
      " 41  gk_handling          10876 non-null  float64\n",
      " 42  gk_kicking           10876 non-null  float64\n",
      " 43  gk_positioning       10876 non-null  float64\n",
      " 44  gk_reflexes          10876 non-null  float64\n",
      "dtypes: float64(37), int64(2), object(6)\n",
      "memory usage: 3.8+ MB\n"
     ]
    }
   ],
   "source": [
    "players.info()"
   ]
  },
  {
   "cell_type": "markdown",
   "metadata": {},
   "source": [
    "### Change Data type \n"
   ]
  },
  {
   "cell_type": "code",
   "execution_count": 23,
   "metadata": {},
   "outputs": [
    {
     "data": {
      "text/plain": [
       "0       1992-02-29\n",
       "1       1989-12-15\n",
       "2       1991-05-13\n",
       "3       1982-05-08\n",
       "4       1979-11-08\n",
       "           ...    \n",
       "11055   1979-04-03\n",
       "11056   1986-12-18\n",
       "11057   1979-04-29\n",
       "11058   1981-10-06\n",
       "11059   1982-06-05\n",
       "Name: birthday, Length: 10876, dtype: datetime64[ns]"
      ]
     },
     "execution_count": 23,
     "metadata": {},
     "output_type": "execute_result"
    }
   ],
   "source": [
    "# Convert birthday from object to datetime\n",
    "pd.to_datetime(players['birthday']) "
   ]
  },
  {
   "cell_type": "code",
   "execution_count": 24,
   "metadata": {},
   "outputs": [
    {
     "data": {
      "text/plain": [
       "0       2016-02-18\n",
       "1       2015-11-19\n",
       "2       2015-09-21\n",
       "3       2015-03-20\n",
       "4       2007-02-22\n",
       "           ...    \n",
       "11055   2007-02-22\n",
       "11056   2012-02-22\n",
       "11057   2011-08-30\n",
       "11058   2011-02-22\n",
       "11059   2010-08-30\n",
       "Name: date, Length: 10876, dtype: datetime64[ns]"
      ]
     },
     "execution_count": 24,
     "metadata": {},
     "output_type": "execute_result"
    }
   ],
   "source": [
    "#convert date from object to datetime\n",
    "pd.to_datetime(players['date'])"
   ]
  },
  {
   "cell_type": "markdown",
   "metadata": {},
   "source": [
    "### Save the new Dataframe"
   ]
  },
  {
   "cell_type": "code",
   "execution_count": 25,
   "metadata": {},
   "outputs": [],
   "source": [
    "players.to_csv('players.csv',index=False)"
   ]
  },
  {
   "cell_type": "markdown",
   "metadata": {},
   "source": [
    "<a id='eda'></a>\n",
    "## Exploratory Data Analysis\n",
    "\n",
    "\n",
    "\n",
    "## who is the Fastest Player ?"
   ]
  },
  {
   "cell_type": "code",
   "execution_count": 31,
   "metadata": {},
   "outputs": [
    {
     "data": {
      "text/plain": [
       "68.92138653916881"
      ]
     },
     "execution_count": 31,
     "metadata": {},
     "output_type": "execute_result"
    }
   ],
   "source": [
    "#Average Sprint Speed\n",
    "players['sprint_speed'].mean()\n"
   ]
  },
  {
   "cell_type": "code",
   "execution_count": 33,
   "metadata": {},
   "outputs": [
    {
     "data": {
      "text/plain": [
       "6233"
      ]
     },
     "execution_count": 33,
     "metadata": {},
     "output_type": "execute_result"
    }
   ],
   "source": [
    "fast=players.query('sprint_speed>sprint_speed.mean()')\n",
    "fast['sprint_speed'].count()"
   ]
  },
  {
   "cell_type": "code",
   "execution_count": 34,
   "metadata": {},
   "outputs": [
    {
     "data": {
      "text/plain": [
       "id                                       11048\n",
       "player_name            dos Santos Fabio Junior\n",
       "birthday                   1999-04-24 00:00:00\n",
       "height                                  208.28\n",
       "weight                                     243\n",
       "player_api_id                           715642\n",
       "date                       2016-07-07 00:00:00\n",
       "overall_rating                              91\n",
       "potential                                   93\n",
       "preferred_foot                           right\n",
       "attacking_work_rate                     medium\n",
       "defensive_work_rate                          o\n",
       "crossing                                    92\n",
       "finishing                                   93\n",
       "heading_accuracy                            93\n",
       "short_passing                               92\n",
       "volleys                                     87\n",
       "dribbling                                   94\n",
       "curve                                       88\n",
       "free_kick_accuracy                          96\n",
       "long_passing                                87\n",
       "ball_control                                94\n",
       "acceleration                                96\n",
       "sprint_speed                                95\n",
       "agility                                     95\n",
       "reactions                                   90\n",
       "balance                                     95\n",
       "shot_power                                  96\n",
       "jumping                                     94\n",
       "stamina                                     94\n",
       "strength                                    95\n",
       "long_shots                                  93\n",
       "aggression                                  94\n",
       "interceptions                               93\n",
       "positioning                                 95\n",
       "vision                                      90\n",
       "penalties                                   94\n",
       "marking                                     94\n",
       "standing_tackle                             95\n",
       "sliding_tackle                              87\n",
       "gk_diving                                   31\n",
       "gk_handling                                 32\n",
       "gk_kicking                                  86\n",
       "gk_positioning                              32\n",
       "gk_reflexes                                 33\n",
       "dtype: object"
      ]
     },
     "execution_count": 34,
     "metadata": {},
     "output_type": "execute_result"
    }
   ],
   "source": [
    "#The Fastest Player\n",
    "fast.max()"
   ]
  },
  {
   "cell_type": "markdown",
   "metadata": {},
   "source": [
    "  This analysis shows that the Fastest Player is dos Santos Fabio Junior with Sprint Speed 95"
   ]
  },
  {
   "cell_type": "markdown",
   "metadata": {},
   "source": [
    "## Who is The oldest and youngest players?"
   ]
  },
  {
   "cell_type": "code",
   "execution_count": 40,
   "metadata": {},
   "outputs": [
    {
     "data": {
      "text/plain": [
       "birthday\n",
       "1967-01-23 00:00:00         Alberto Fontana\n",
       "1968-06-26 00:00:00           Paolo Maldini\n",
       "1969-01-15 00:00:00            Rob van Dijk\n",
       "1969-03-13 00:00:00              Luca Bucci\n",
       "1969-04-01 00:00:00            Dean Windass\n",
       "                               ...         \n",
       "1998-12-16 00:00:00            Reece Oxford\n",
       "1998-12-20 00:00:00    Kylian Mbappe Lottin\n",
       "1999-01-23 00:00:00            Alban Lafont\n",
       "1999-02-25 00:00:00    Gianluigi Donnarumma\n",
       "1999-04-24 00:00:00           Jonathan Leko\n",
       "Name: player_name, Length: 5714, dtype: object"
      ]
     },
     "execution_count": 40,
     "metadata": {},
     "output_type": "execute_result"
    }
   ],
   "source": [
    "players.groupby(['birthday'])['player_name'].max()"
   ]
  },
  {
   "cell_type": "markdown",
   "metadata": {},
   "source": [
    " By analyzing both birthday column and player name column I discoverd that the odlest player is Alberto Fontana and the youngest Player is Jonathan Leko"
   ]
  },
  {
   "cell_type": "markdown",
   "metadata": {},
   "source": [
    "## does players play with right foot are better finishers than players play with left foot ?"
   ]
  },
  {
   "cell_type": "code",
   "execution_count": 48,
   "metadata": {},
   "outputs": [
    {
     "data": {
      "text/plain": [
       "Text(0, 0.5, 'Finishing')"
      ]
     },
     "execution_count": 48,
     "metadata": {},
     "output_type": "execute_result"
    },
    {
     "data": {
      "image/png": "[encoded data removed]",
      "text/plain": [
       "<Figure size 432x288 with 1 Axes>"
      ]
     },
     "metadata": {
      "needs_background": "light"
     },
     "output_type": "display_data"
    }
   ],
   "source": [
    "pref_foot=players.groupby(['preferred_foot'])['finishing'].mean()\n",
    "colors=['red','blue']\n",
    "pref_foot.plot(kind='bar',title='Right Vs Left Foot',color=colors,alpha=.7)\n",
    "plt.xlabel('Preferred Foot' ,fontsize=18)\n",
    "plt.ylabel('Finishing' ,fontsize=18)"
   ]
  },
  {
   "cell_type": "markdown",
   "metadata": {},
   "source": [
    " The Chart shows to us that  in our dataset the average of finishing ability for left footed players is greater that for right footed players which gives us an indication that left footed players are better finishers "
   ]
  },
  {
   "cell_type": "markdown",
   "metadata": {},
   "source": [
    "## Impact of some Attributes on Overall Rating"
   ]
  },
  {
   "cell_type": "code",
   "execution_count": 35,
   "metadata": {},
   "outputs": [
    {
     "data": {
      "text/plain": [
       "Text(0.5, 1.0, 'Relation between Overall rating and dribbling')"
      ]
     },
     "execution_count": 35,
     "metadata": {},
     "output_type": "execute_result"
    },
    {
     "data": {
      "image/png": "[encoded data removed]",
      "text/plain": [
       "<Figure size 432x288 with 1 Axes>"
      ]
     },
     "metadata": {
      "needs_background": "light"
     },
     "output_type": "display_data"
    }
   ],
   "source": [
    "# Relation between Overall rating and dribbling\n",
    "players.plot(x='dribbling',y='overall_rating',kind='scatter')\n",
    "plt.title('Relation between Overall rating and dribbling')"
   ]
  },
  {
   "cell_type": "markdown",
   "metadata": {},
   "source": [
    " we have positive correlation between dribbling and overall rating which gives and indication that good dribblers got higher overall rating "
   ]
  },
  {
   "cell_type": "markdown",
   "metadata": {},
   "source": [
    "## Relation between Height and Jumping "
   ]
  },
  {
   "cell_type": "code",
   "execution_count": 34,
   "metadata": {},
   "outputs": [
    {
     "data": {
      "text/plain": [
       "Text(0.5, 1.0, 'Relation between Height and Jumping')"
      ]
     },
     "execution_count": 34,
     "metadata": {},
     "output_type": "execute_result"
    },
    {
     "data": {
      "image/png": "[encoded data removed]",
      "text/plain": [
       "<Figure size 432x288 with 1 Axes>"
      ]
     },
     "metadata": {
      "needs_background": "light"
     },
     "output_type": "display_data"
    }
   ],
   "source": [
    "players.plot(x='height',y='jumping',kind='scatter')\n",
    "plt.title('Relation between Height and Jumping')"
   ]
  },
  {
   "cell_type": "markdown",
   "metadata": {},
   "source": [
    " It appears that being tall or short does not affect your abillity of jumping as there is no positive or negative correlation between height and jumping"
   ]
  },
  {
   "cell_type": "markdown",
   "metadata": {},
   "source": [
    "## Exploring some Important Features"
   ]
  },
  {
   "cell_type": "code",
   "execution_count": 26,
   "metadata": {},
   "outputs": [
    {
     "data": {
      "text/plain": [
       "count    10876.000000\n",
       "mean        68.571993\n",
       "std          7.086582\n",
       "min         40.000000\n",
       "25%         64.000000\n",
       "50%         69.000000\n",
       "75%         74.000000\n",
       "max         91.000000\n",
       "Name: overall_rating, dtype: float64"
      ]
     },
     "execution_count": 26,
     "metadata": {},
     "output_type": "execute_result"
    }
   ],
   "source": [
    "# Overall Rating\n",
    "players['overall_rating'].describe()"
   ]
  },
  {
   "cell_type": "code",
   "execution_count": 27,
   "metadata": {},
   "outputs": [
    {
     "data": {
      "text/html": [
       "<div>\n",
       "<style scoped>\n",
       "    .dataframe tbody tr th:only-of-type {\n",
       "        vertical-align: middle;\n",
       "    }\n",
       "\n",
       "    .dataframe tbody tr th {\n",
       "        vertical-align: top;\n",
       "    }\n",
       "\n",
       "    .dataframe thead th {\n",
       "        text-align: right;\n",
       "    }\n",
       "</style>\n",
       "<table border=\"1\" class=\"dataframe\">\n",
       "  <thead>\n",
       "    <tr style=\"text-align: right;\">\n",
       "      <th></th>\n",
       "      <th>overall_rating</th>\n",
       "    </tr>\n",
       "  </thead>\n",
       "  <tbody>\n",
       "    <tr>\n",
       "      <th>count</th>\n",
       "      <td>10876.000000</td>\n",
       "    </tr>\n",
       "    <tr>\n",
       "      <th>mean</th>\n",
       "      <td>68.571993</td>\n",
       "    </tr>\n",
       "    <tr>\n",
       "      <th>std</th>\n",
       "      <td>7.086582</td>\n",
       "    </tr>\n",
       "    <tr>\n",
       "      <th>min</th>\n",
       "      <td>40.000000</td>\n",
       "    </tr>\n",
       "    <tr>\n",
       "      <th>25%</th>\n",
       "      <td>64.000000</td>\n",
       "    </tr>\n",
       "    <tr>\n",
       "      <th>50%</th>\n",
       "      <td>69.000000</td>\n",
       "    </tr>\n",
       "    <tr>\n",
       "      <th>75%</th>\n",
       "      <td>74.000000</td>\n",
       "    </tr>\n",
       "    <tr>\n",
       "      <th>max</th>\n",
       "      <td>91.000000</td>\n",
       "    </tr>\n",
       "  </tbody>\n",
       "</table>\n",
       "</div>"
      ],
      "text/plain": [
       "       overall_rating\n",
       "count    10876.000000\n",
       "mean        68.571993\n",
       "std          7.086582\n",
       "min         40.000000\n",
       "25%         64.000000\n",
       "50%         69.000000\n",
       "75%         74.000000\n",
       "max         91.000000"
      ]
     },
     "execution_count": 27,
     "metadata": {},
     "output_type": "execute_result"
    },
    {
     "data": {
      "image/png": "[encoded data removed]",
      "text/plain": [
       "<Figure size 432x288 with 1 Axes>"
      ]
     },
     "metadata": {
      "needs_background": "light"
     },
     "output_type": "display_data"
    }
   ],
   "source": [
    "rating=players['overall_rating'].hist()\n",
    "rating.set_ylabel('Number')\n",
    "rating.set_xlabel('Ratings')\n",
    "rating.set_title('Ovaerall Ratings')\n",
    "pd.DataFrame(players['overall_rating'].describe())"
   ]
  },
  {
   "cell_type": "markdown",
   "metadata": {},
   "source": [
    " From a sample of 10876 player the min rating for a player is 40 and the max is 91.\n",
    " and the majority got 74 and 50% of our sample got 69 overall rating"
   ]
  },
  {
   "cell_type": "code",
   "execution_count": 28,
   "metadata": {},
   "outputs": [
    {
     "data": {
      "text/plain": [
       "count    10876.000000\n",
       "mean        64.557282\n",
       "std         14.915145\n",
       "min         10.000000\n",
       "25%         59.000000\n",
       "50%         68.000000\n",
       "75%         74.000000\n",
       "max         94.000000\n",
       "Name: ball_control, dtype: float64"
      ]
     },
     "execution_count": 28,
     "metadata": {},
     "output_type": "execute_result"
    }
   ],
   "source": [
    "# Explore Ball Control\n",
    "players['ball_control'].describe()"
   ]
  },
  {
   "cell_type": "code",
   "execution_count": 29,
   "metadata": {},
   "outputs": [
    {
     "data": {
      "text/plain": [
       "74.0    475\n",
       "73.0    444\n",
       "72.0    419\n",
       "68.0    412\n",
       "71.0    399\n",
       "       ... \n",
       "18.0      6\n",
       "94.0      6\n",
       "91.0      2\n",
       "92.0      1\n",
       "90.0      1\n",
       "Name: ball_control, Length: 84, dtype: int64"
      ]
     },
     "execution_count": 29,
     "metadata": {},
     "output_type": "execute_result"
    }
   ],
   "source": [
    "players['ball_control'].value_counts()"
   ]
  },
  {
   "cell_type": "code",
   "execution_count": 30,
   "metadata": {},
   "outputs": [
    {
     "data": {
      "text/plain": [
       "ball_control\n",
       "10.0           Johan Audel\n",
       "11.0      Marcus Hahnemann\n",
       "12.0    Zvjezdan Misimovic\n",
       "13.0         Pedro Ramirez\n",
       "14.0       Patrick Roberts\n",
       "               ...        \n",
       "89.0         Vadim Demidov\n",
       "90.0     Lorenzo Melgarejo\n",
       "91.0         Lorenzo Lollo\n",
       "92.0         Emanuel Sarki\n",
       "94.0       Lorenzo Tonelli\n",
       "Name: player_name, Length: 84, dtype: object"
      ]
     },
     "execution_count": 30,
     "metadata": {},
     "output_type": "execute_result"
    }
   ],
   "source": [
    "players.groupby(['ball_control'])['player_name'].max()"
   ]
  },
  {
   "cell_type": "markdown",
   "metadata": {},
   "source": [
    "here's the statistical describtion of Ball control abillity for the players and shows the distribution of ratings and the worst ball controler 'Johan Audel' and the best ball controler 'Lorenzo Tonelli'"
   ]
  },
  {
   "cell_type": "code",
   "execution_count": 32,
   "metadata": {},
   "outputs": [
    {
     "data": {
      "text/html": [
       "<div>\n",
       "<style scoped>\n",
       "    .dataframe tbody tr th:only-of-type {\n",
       "        vertical-align: middle;\n",
       "    }\n",
       "\n",
       "    .dataframe tbody tr th {\n",
       "        vertical-align: top;\n",
       "    }\n",
       "\n",
       "    .dataframe thead th {\n",
       "        text-align: right;\n",
       "    }\n",
       "</style>\n",
       "<table border=\"1\" class=\"dataframe\">\n",
       "  <thead>\n",
       "    <tr style=\"text-align: right;\">\n",
       "      <th></th>\n",
       "      <th>shot_power</th>\n",
       "    </tr>\n",
       "  </thead>\n",
       "  <tbody>\n",
       "    <tr>\n",
       "      <th>count</th>\n",
       "      <td>10876.000000</td>\n",
       "    </tr>\n",
       "    <tr>\n",
       "      <th>mean</th>\n",
       "      <td>62.371000</td>\n",
       "    </tr>\n",
       "    <tr>\n",
       "      <th>std</th>\n",
       "      <td>15.745972</td>\n",
       "    </tr>\n",
       "    <tr>\n",
       "      <th>min</th>\n",
       "      <td>11.000000</td>\n",
       "    </tr>\n",
       "    <tr>\n",
       "      <th>25%</th>\n",
       "      <td>55.000000</td>\n",
       "    </tr>\n",
       "    <tr>\n",
       "      <th>50%</th>\n",
       "      <td>66.000000</td>\n",
       "    </tr>\n",
       "    <tr>\n",
       "      <th>75%</th>\n",
       "      <td>74.000000</td>\n",
       "    </tr>\n",
       "    <tr>\n",
       "      <th>max</th>\n",
       "      <td>96.000000</td>\n",
       "    </tr>\n",
       "  </tbody>\n",
       "</table>\n",
       "</div>"
      ],
      "text/plain": [
       "         shot_power\n",
       "count  10876.000000\n",
       "mean      62.371000\n",
       "std       15.745972\n",
       "min       11.000000\n",
       "25%       55.000000\n",
       "50%       66.000000\n",
       "75%       74.000000\n",
       "max       96.000000"
      ]
     },
     "execution_count": 32,
     "metadata": {},
     "output_type": "execute_result"
    },
    {
     "data": {
      "image/png": "[encoded data removed]",
      "text/plain": [
       "<Figure size 432x288 with 1 Axes>"
      ]
     },
     "metadata": {
      "needs_background": "light"
     },
     "output_type": "display_data"
    }
   ],
   "source": [
    "# explore shot Power\n",
    "shot=players['shot_power'].hist()\n",
    "shot.set_ylabel('Number')\n",
    "shot.set_xlabel('Shot Power')\n",
    "shot.set_title('Shot Power Statistics')\n",
    "pd.DataFrame(players['shot_power'].describe())"
   ]
  },
  {
   "cell_type": "markdown",
   "metadata": {},
   "source": [
    "players who got shot power rating between 65 and 70 are the most then those who got from 75 and 80 and the max shot power rating is 96 and the min is 11"
   ]
  },
  {
   "cell_type": "code",
   "execution_count": 33,
   "metadata": {},
   "outputs": [
    {
     "data": {
      "text/plain": [
       "shot_power\n",
       "11.0            Mathieu Beda\n",
       "12.0    Pelle van Amersfoort\n",
       "13.0           Pedro Ramirez\n",
       "14.0             Yann Sommer\n",
       "15.0          Swen Koenig,24\n",
       "                ...         \n",
       "90.0       Sebastien Corchia\n",
       "91.0             Nuno Campos\n",
       "93.0          Faycal Rherras\n",
       "94.0           Fazli Kocabas\n",
       "96.0               Fede Vico\n",
       "Name: player_name, Length: 84, dtype: object"
      ]
     },
     "execution_count": 33,
     "metadata": {},
     "output_type": "execute_result"
    }
   ],
   "source": [
    "players.groupby(['shot_power'])['player_name'].max()"
   ]
  },
  {
   "cell_type": "markdown",
   "metadata": {},
   "source": [
    "Max shot power rating goes for 'Fede Vico' and weakest shot power goes for 'Mathieu Beda'"
   ]
  },
  {
   "cell_type": "markdown",
   "metadata": {},
   "source": [
    "## Limitations "
   ]
  },
  {
   "cell_type": "markdown",
   "metadata": {},
   "source": [
    "I faced some challenges dealing with NaN values, useless columns and merging both dataframes in one dataframe.\n",
    "The good thing was that the sample (10876 player) is big which gave me the oppurtiunity to explore it well and find reasonable answers "
   ]
  },
  {
   "cell_type": "markdown",
   "metadata": {},
   "source": [
    "<a id='conclusions'></a>\n",
    "## Conclusions\n",
    "After analyzing this dataset I discoverd that Fabio junior is tha fastest player in my dataset,also I knew that The odlest player is Alberto Fontana and The youngest Player is Jonathan Leko.\n",
    "the impact of player attributes like dribbling on the overall rating, and that it that your tall doesn't affect on your jumping ability.I discoverd the disribution of some importat features such as shot power,overall rating and ball control\n"
   ]
  },
  {
   "cell_type": "code",
   "execution_count": null,
   "metadata": {
    "collapsed": true
   },
   "outputs": [],
   "source": []
  }
 ],
 "metadata": {
  "kernelspec": {
   "display_name": "Python 3",
   "language": "python",
   "name": "python3"
  },
  "language_info": {
   "codemirror_mode": {
    "name": "ipython",
    "version": 3
   },
   "file_extension": ".py",
   "mimetype": "text/x-python",
   "name": "python",
   "nbconvert_exporter": "python",
   "pygments_lexer": "ipython3",
   "version": "3.8.3"
  }
 },
 "nbformat": 4,
 "nbformat_minor": 2
}
